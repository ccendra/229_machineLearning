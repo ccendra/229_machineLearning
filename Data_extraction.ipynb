{
 "cells": [
  {
   "cell_type": "code",
   "execution_count": 11,
   "metadata": {},
   "outputs": [],
   "source": [
    "from features_class import *\n",
    "import pandas as pd\n",
    "import json\n",
    "import random"
   ]
  },
  {
   "cell_type": "code",
   "execution_count": 13,
   "metadata": {},
   "outputs": [],
   "source": [
    "random.seed(10)"
   ]
  },
  {
   "cell_type": "code",
   "execution_count": 2,
   "metadata": {},
   "outputs": [],
   "source": [
    "# This code extracts and save data with specific elastic property\n",
    "# example shown below is to extract Bulk Voigt Modulus\n",
    "prop = 'Bulk Modulus, Voigt'"
   ]
  },
  {
   "cell_type": "code",
   "execution_count": 3,
   "metadata": {},
   "outputs": [],
   "source": [
    "# processed condition: set by default as True for debugging. To extract new property set to false\n",
    "# filename is filename to store extracted data with designated property\n",
    "processed = True\n",
    "filename = 'data_prop_bulkModulus_Voigt.json'\n",
    "\n",
    "if processed:\n",
    "    with open(filename, 'r')as f_in:\n",
    "        data = json.load(f_in)\n",
    "else:\n",
    "    prop = 'Bulk Modulus, Voigt'\n",
    "    data_elastic = f.extract_elastic_data()\n",
    "    data = f.extract_property(data_elastic, prop)\n",
    "    f.check_all_equal_units(data, 'GPa')\n",
    "    with open(filename, 'w') as fp:\n",
    "        json.dump(data, fp)"
   ]
  },
  {
   "cell_type": "code",
   "execution_count": 4,
   "metadata": {},
   "outputs": [
    {
     "name": "stdout",
     "output_type": "stream",
     "text": [
      "There is 13 materials with negative property value\n",
      "['NdMg3', 'LaIn', 'CoO2', 'NdBeO3', 'FeCo3O8', 'BaCl2', 'Kr', 'BaTe', 'Dy', 'Tb', 'CoBiO3', 'Ca3BiN', 'Ba(LaSe2)2']\n"
     ]
    },
    {
     "name": "stderr",
     "output_type": "stream",
     "text": [
      "/home/camila/anaconda3/lib/python3.7/site-packages/matplotlib/figure.py:448: UserWarning: Matplotlib is currently using module://ipykernel.pylab.backend_inline, which is a non-GUI backend, so cannot show the figure.\n",
      "  % get_backend())\n"
     ]
    },
    {
     "data": {
      "image/png": "[encoded data removed]",
      "text/plain": [
       "<Figure size 432x288 with 1 Axes>"
      ]
     },
     "metadata": {
      "needs_background": "light"
     },
     "output_type": "display_data"
    }
   ],
   "source": [
    "# plotting data distribution of chosen property\n",
    "fig = f.plot_histogram(data, prop)\n",
    "fig.savefig('Datadistribution.svg')\n",
    "fig.show()\n",
    "\n",
    "# check if labels are negative for designated property\n",
    "f.check_negative_values(data)"
   ]
  },
  {
   "cell_type": "code",
   "execution_count": 7,
   "metadata": {},
   "outputs": [],
   "source": [
    "# obtaining descriptive attributes\n",
    "# get chemical elements information to generate descriptive attributes\n",
    "fn = 'chemical_elements_full_v2.csv'\n",
    "chem_list = f.get_chemicals_list(fn)\n",
    "elements_data = pd.read_csv(fn, skipinitialspace=True, index_col=\"symbol\")\n",
    "elements_data.index = elements_data.index.str.strip()"
   ]
  },
  {
   "cell_type": "code",
   "execution_count": 33,
   "metadata": {},
   "outputs": [
    {
     "name": "stdout",
     "output_type": "stream",
     "text": [
      "generating data x,y matrix\n",
      "0\n",
      "500\n",
      "1000\n",
      "1500\n",
      "2000\n",
      "2500\n",
      "3000\n",
      "3500\n",
      "4000\n"
     ]
    }
   ],
   "source": [
    "# Generate data matrix. Size is (m_examples, n_features [135])\n",
    "data_x = np.zeros((len(data), 135))\n",
    "data_y = np.zeros((len(data), 1))\n",
    "\n",
    "keys_list = list(data.keys())\n",
    "random.shuffle(keys_list)\n",
    "list_keys_out = []\n",
    "\n",
    "print('generating data x,y matrix')\n",
    "for i in range(len(keys_list)):\n",
    "    key = list_keys[i]\n",
    "    if i % 500 == 0:\n",
    "        print(i)\n",
    "    features = Features(key, chem_list, elements_data)\n",
    "    features.elemental_composition()\n",
    "    output = features.get_rest_features()\n",
    "    data_x[i, :] = np.append(features.composition, output)\n",
    "    data_y[i, 0] = data[key]['scalar']\n",
    "    list_keys_out.append(key)"
   ]
  },
  {
   "cell_type": "code",
   "execution_count": 32,
   "metadata": {},
   "outputs": [
    {
     "name": "stdout",
     "output_type": "stream",
     "text": [
      "finished data extraction\n"
     ]
    }
   ],
   "source": [
    "# saving data (x, y) matrices\n",
    "np.save('data_x.npy', data_x)\n",
    "np.save('data_y.npy', data_y)\n",
    "\n",
    "print('finished data extraction')"
   ]
  }
 ],
 "metadata": {
  "kernelspec": {
   "display_name": "Python 3",
   "language": "python",
   "name": "python3"
  },
  "language_info": {
   "codemirror_mode": {
    "name": "ipython",
    "version": 3
   },
   "file_extension": ".py",
   "mimetype": "text/x-python",
   "name": "python",
   "nbconvert_exporter": "python",
   "pygments_lexer": "ipython3",
   "version": "3.7.0"
  }
 },
 "nbformat": 4,
 "nbformat_minor": 2
}
